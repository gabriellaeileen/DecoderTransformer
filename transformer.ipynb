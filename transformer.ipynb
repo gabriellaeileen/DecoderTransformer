{
 "cells": [
  {
   "cell_type": "code",
   "execution_count": 1,
   "id": "eec4130f",
   "metadata": {},
   "outputs": [],
   "source": [
    "import numpy as np"
   ]
  },
  {
   "cell_type": "code",
   "execution_count": 2,
   "id": "841a0c1c",
   "metadata": {},
   "outputs": [],
   "source": [
    "def softmax(x):\n",
    "    e_x = np.exp(x - np.max(x, axis=-1, keepdims=True))\n",
    "    return e_x / np.sum(e_x, axis=-1, keepdims=True)\n"
   ]
  },
  {
   "cell_type": "code",
   "execution_count": 3,
   "id": "f65d05e1",
   "metadata": {},
   "outputs": [],
   "source": [
    "def relu(x):\n",
    "    return np.maximum(0, x)"
   ]
  },
  {
   "cell_type": "code",
   "execution_count": 4,
   "id": "868af303",
   "metadata": {},
   "outputs": [],
   "source": [
    "class Linear:\n",
    "    def __init__(self, input_dim, output_dim):\n",
    "        self.weights = np.random.randn(input_dim, output_dim) * np.sqrt(2.0 / input_dim)\n",
    "        self.biases = np.zeros(output_dim)\n",
    "\n",
    "    def forward(self, x):\n",
    "        return np.dot(x, self.weights) + self.biases"
   ]
  },
  {
   "cell_type": "code",
   "execution_count": 5,
   "id": "ffb16337",
   "metadata": {},
   "outputs": [],
   "source": [
    "class TokenEmbedding:\n",
    "    def __init__(self, vocab_size, d_model):\n",
    "        self.embedding_matrix = np.random.randn(vocab_size, d_model)\n",
    "\n",
    "    def forward(self, token_ids):\n",
    "        return self.embedding_matrix[token_ids]"
   ]
  },
  {
   "cell_type": "code",
   "execution_count": 6,
   "id": "52a406a9",
   "metadata": {},
   "outputs": [],
   "source": [
    "class PositionalEncoding:\n",
    "    def __init__(self, d_model, max_seq_len=5000):\n",
    "        pe = np.zeros((max_seq_len, d_model)) # positional encoding matrix\n",
    "        position = np.arange(0, max_seq_len, dtype=np.float32).reshape(-1, 1)\n",
    "        div_term = np.exp(np.arange(0, d_model, 2).astype(np.float32) * -(np.log(10000.0) / d_model))\n",
    "\n",
    "        pe[:, 0::2] = np.sin(position * div_term)\n",
    "        pe[:, 1::2] = np.cos(position * div_term)\n",
    "\n",
    "        self.pe = pe[np.newaxis, ...]\n",
    "\n",
    "    def forward(self, x):\n",
    "        return x + self.pe[:, :x.shape[1], :]"
   ]
  },
  {
   "cell_type": "code",
   "execution_count": 7,
   "id": "d722b5af",
   "metadata": {},
   "outputs": [],
   "source": [
    "class LayerNormalization:\n",
    "    def __init__(self, d_model, epsilon=1e-5):\n",
    "        self.gamma = np.ones(d_model)  # learnable scale parameter\n",
    "        self.beta = np.zeros(d_model)   # learnable shift parameter\n",
    "        self.epsilon = epsilon\n",
    "\n",
    "    def forward(self, x):\n",
    "        mean = np.mean(x, axis=-1, keepdims=True)\n",
    "        std = np.std(x, axis=-1, keepdims=True)\n",
    "        return self.gamma * (x - mean) / (std + self.epsilon) + self.beta"
   ]
  },
  {
   "cell_type": "code",
   "execution_count": 8,
   "id": "4fd906f5",
   "metadata": {},
   "outputs": [],
   "source": [
    "def scaled_dot_product_attention(q, k, v, mask=None):\n",
    "    d_k = q.shape[-1]\n",
    "    scores = np.matmul(q, k.swapaxes(-2, -1)) / np.sqrt(d_k)\n",
    "\n",
    "    if mask is not None:\n",
    "        scores += mask\n",
    "\n",
    "    attention_weights = softmax(scores)\n",
    "    output = np.matmul(attention_weights, v)\n",
    "    return output, attention_weights"
   ]
  },
  {
   "cell_type": "code",
   "execution_count": 9,
   "id": "209bf7a4",
   "metadata": {},
   "outputs": [],
   "source": [
    "class MultiHeadAttention:\n",
    "    def __init__(self, d_model, num_heads):\n",
    "        assert d_model % num_heads == 0\n",
    "        self.d_model = d_model\n",
    "        self.num_heads = num_heads\n",
    "        self.d_k = d_model // num_heads\n",
    "\n",
    "        self.W_q = Linear(d_model, d_model)\n",
    "        self.W_k = Linear(d_model, d_model)\n",
    "        self.W_v = Linear(d_model, d_model)\n",
    "        self.W_o = Linear(d_model, d_model)\n",
    "\n",
    "    def split_heads(self, x, batch_size):\n",
    "        x = x.reshape(batch_size, -1, self.num_heads, self.d_k)\n",
    "        return x.transpose(0, 2, 1, 3)\n",
    "\n",
    "    def forward(self, q, k, v, mask=None):\n",
    "        batch_size = q.shape[0]\n",
    "\n",
    "        q = self.W_q.forward(q)\n",
    "        k = self.W_k.forward(k)\n",
    "        v = self.W_v.forward(v)\n",
    "\n",
    "        q = self.split_heads(q, batch_size)\n",
    "        k = self.split_heads(k, batch_size)\n",
    "        v = self.split_heads(v, batch_size)\n",
    "\n",
    "        attention_output, _ = scaled_dot_product_attention(q, k, v, mask)\n",
    "\n",
    "        attention_output = attention_output.transpose(0, 2, 1, 3)\n",
    "        concatenated_output = attention_output.reshape(batch_size, -1, self.d_model)\n",
    "\n",
    "        output = self.W_o.forward(concatenated_output)\n",
    "        return output"
   ]
  },
  {
   "cell_type": "code",
   "execution_count": 10,
   "id": "bcbea96f",
   "metadata": {},
   "outputs": [],
   "source": [
    "class FeedForwardNetwork:\n",
    "    def __init__(self, d_model, d_ff):\n",
    "        self.linear1 = Linear(d_model, d_ff)\n",
    "        self.linear2 = Linear(d_ff, d_model)\n",
    "\n",
    "    def forward(self, x):\n",
    "        return self.linear2.forward(relu(self.linear1.forward(x)))"
   ]
  },
  {
   "cell_type": "code",
   "execution_count": 11,
   "id": "c122316a",
   "metadata": {},
   "outputs": [],
   "source": [
    "class TransformerDecoderBlock:\n",
    "    def __init__(self, d_model, num_heads, d_ff):\n",
    "        self.mha = MultiHeadAttention(d_model, num_heads)\n",
    "        self.ffn = FeedForwardNetwork(d_model, d_ff)\n",
    "        self.ln1 = LayerNormalization(d_model)\n",
    "        self.ln2 = LayerNormalization(d_model)\n",
    "\n",
    "    def forward(self, x, mask):\n",
    "        \"\"\"\n",
    "        x shape: (batch_size, seq_len, d_model)\n",
    "        \"\"\"\n",
    "        # Multi-Head Attention\n",
    "        ln_x = self.ln1.forward(x)\n",
    "        attention_output = self.mha.forward(ln_x, ln_x, ln_x, mask)\n",
    "        x = x + attention_output\n",
    "\n",
    "        # Feed-Forward Network\n",
    "        ln_x = self.ln2.forward(x)\n",
    "        ffn_output = self.ffn.forward(ln_x)\n",
    "        x = x + ffn_output\n",
    "\n",
    "        return x"
   ]
  },
  {
   "cell_type": "code",
   "execution_count": 12,
   "id": "f3f1654e",
   "metadata": {},
   "outputs": [],
   "source": [
    "class DecoderOnlyTransformer:\n",
    "    def __init__(self, vocab_size, d_model, num_heads, d_ff, num_layers, max_seq_len):\n",
    "        self.embedding = TokenEmbedding(vocab_size, d_model)\n",
    "        self.pos_encoding = PositionalEncoding(d_model, max_seq_len)\n",
    "        self.decoder_blocks = [TransformerDecoderBlock(d_model, num_heads, d_ff) for _ in range(num_layers)]\n",
    "        self.final_ln = LayerNormalization(d_model)\n",
    "        self.output_layer = Linear(d_model, vocab_size)\n",
    "\n",
    "    def forward(self, x):\n",
    "        batch_size, seq_len = x.shape\n",
    "\n",
    "        # Causal mask\n",
    "        mask = np.triu(np.ones((seq_len, seq_len)), k=1) * -1e9\n",
    "        mask = mask.reshape(1, 1, seq_len, seq_len)\n",
    "\n",
    "        # Input Embedding + Positional Encoding\n",
    "        x = self.embedding.forward(x)\n",
    "        x = self.pos_encoding.forward(x)\n",
    "\n",
    "        for block in self.decoder_blocks:\n",
    "            x = block.forward(x, mask)\n",
    "\n",
    "        x = self.final_ln.forward(x)\n",
    "        logits = self.output_layer.forward(x)\n",
    "\n",
    "        return logits"
   ]
  },
  {
   "cell_type": "code",
   "execution_count": 15,
   "id": "099deb9b",
   "metadata": {},
   "outputs": [
    {
     "name": "stdout",
     "output_type": "stream",
     "text": [
      "Transformer Model Test\n",
      "Hyperparameters: d_model=512, num_heads=8, num_layers=6\n",
      "\n",
      "Input token IDs shape: (4, 20) (batch_size, seq_len)\n",
      "Output logits shape: (4, 20, 1000) (batch_size, seq_len, vocab_size)\n",
      "Probabilities for next token shape: (4, 1000) (batch_size, vocab_size)\n",
      "Sum of probabilities for each batch item: [1. 1. 1. 1.]\n",
      "\n",
      "Output dimensions are correct and softmax is valid.\n",
      "\n",
      "Causal Masking Check\n",
      "Attention weights matrix for a single head (shape (1, 4, 4)):\n",
      "[[1.   0.   0.   0.  ]\n",
      " [0.39 0.61 0.   0.  ]\n",
      " [0.29 0.26 0.45 0.  ]\n",
      " [0.22 0.19 0.27 0.33]]\n",
      "\n",
      "The upper triangle is all zeros, proving the mask works.\n"
     ]
    }
   ],
   "source": [
    "# Simple Test Case (Bukti Uji Sederhana)\n",
    "if __name__ == '__main__':\n",
    "    # Hyperparameters\n",
    "    vocab_size = 1000  # Size of our vocabulary\n",
    "    d_model = 512      # Embedding dimension\n",
    "    num_heads = 8      # Number of attention heads\n",
    "    d_ff = 2048        # Hidden dimension of the FFN\n",
    "    num_layers = 6     # Number of decoder blocks\n",
    "    max_seq_len = 100  # Maximum sequence length\n",
    "\n",
    "    batch_size = 4\n",
    "    seq_len = 20\n",
    "\n",
    "    print(\"Transformer Model Test\")\n",
    "    print(f\"Hyperparameters: d_model={d_model}, num_heads={num_heads}, num_layers={num_layers}\\n\")\n",
    "\n",
    "    model = DecoderOnlyTransformer(\n",
    "        vocab_size=vocab_size,\n",
    "        d_model=d_model,\n",
    "        num_heads=num_heads,\n",
    "        d_ff=d_ff,\n",
    "        num_layers=num_layers,\n",
    "        max_seq_len=max_seq_len\n",
    "    )\n",
    "\n",
    "    dummy_input = np.random.randint(0, vocab_size, size=(batch_size, seq_len))\n",
    "    print(f\"Input token IDs shape: {dummy_input.shape} (batch_size, seq_len)\")\n",
    "\n",
    "    logits = model.forward(dummy_input)\n",
    "    print(f\"Output logits shape: {logits.shape} (batch_size, seq_len, vocab_size)\")\n",
    "\n",
    "    last_token_logits = logits[:, -1, :]\n",
    "    next_token_probs = softmax(last_token_logits)\n",
    "    print(f\"Probabilities for next token shape: {next_token_probs.shape} (batch_size, vocab_size)\")\n",
    "\n",
    "    prob_sums = np.sum(next_token_probs, axis=-1)\n",
    "    with np.printoptions(precision=20, suppress=True):\n",
    "        print(f\"Sum of probabilities for each batch item: {prob_sums}\")\n",
    "    assert np.allclose(prob_sums, 1.0), \"Probabilities should sum to 1\"\n",
    "    print(\"\\nOutput dimensions are correct and softmax is valid.\")\n",
    "\n",
    "    print(\"\\nCausal Masking Check\")\n",
    "    q_test = k_test = v_test = np.random.rand(1, 4, 32) # (batch, seq_len, d_k)\n",
    "    test_seq_len = q_test.shape[1]\n",
    "    causal_mask = np.triu(np.ones((test_seq_len, test_seq_len)), k=1) * -1e9\n",
    "\n",
    "    _, attention_weights = scaled_dot_product_attention(q_test, k_test, v_test, causal_mask)\n",
    "    print(\"Attention weights matrix for a single head (shape {}):\".format(attention_weights.shape))\n",
    "    print(np.round(attention_weights.squeeze(), 2))\n",
    "    print(\"\\nThe upper triangle is all zeros, proving the mask works.\")"
   ]
  }
 ],
 "metadata": {
  "kernelspec": {
   "display_name": "Python 3",
   "language": "python",
   "name": "python3"
  },
  "language_info": {
   "codemirror_mode": {
    "name": "ipython",
    "version": 3
   },
   "file_extension": ".py",
   "mimetype": "text/x-python",
   "name": "python",
   "nbconvert_exporter": "python",
   "pygments_lexer": "ipython3",
   "version": "3.11.0"
  }
 },
 "nbformat": 4,
 "nbformat_minor": 5
}
